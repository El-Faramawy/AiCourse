{
 "cells": [
  {
   "cell_type": "markdown",
   "metadata": {},
   "source": [
    "# Q1"
   ]
  },
  {
   "cell_type": "code",
   "execution_count": 1,
   "metadata": {},
   "outputs": [],
   "source": [
    "def add(a, b):\n",
    "    return a+b"
   ]
  },
  {
   "cell_type": "code",
   "execution_count": 2,
   "metadata": {},
   "outputs": [
    {
     "data": {
      "text/plain": [
       "3"
      ]
     },
     "execution_count": 2,
     "metadata": {},
     "output_type": "execute_result"
    }
   ],
   "source": [
    "add(1,2)"
   ]
  },
  {
   "cell_type": "code",
   "execution_count": 3,
   "metadata": {},
   "outputs": [],
   "source": [
    "def add(a, b):\n",
    "#     \"Return the sum of a and b\"\n",
    "    print(\"Passed a = %s and b = %s, returning a + b = %s\" % (a, b, a + b))\n",
    "    return a + b"
   ]
  },
  {
   "cell_type": "code",
   "execution_count": 4,
   "metadata": {},
   "outputs": [
    {
     "name": "stdout",
     "output_type": "stream",
     "text": [
      "Passed a = 1 and b = 2, returning a + b = 3\n"
     ]
    },
    {
     "data": {
      "text/plain": [
       "3"
      ]
     },
     "execution_count": 4,
     "metadata": {},
     "output_type": "execute_result"
    }
   ],
   "source": [
    "add(1,2)"
   ]
  },
  {
   "cell_type": "markdown",
   "metadata": {},
   "source": [
    "# Q2"
   ]
  },
  {
   "cell_type": "code",
   "execution_count": 5,
   "metadata": {},
   "outputs": [],
   "source": [
    "title = []"
   ]
  },
  {
   "cell_type": "code",
   "execution_count": 6,
   "metadata": {},
   "outputs": [],
   "source": [
    "def buyLotsOfFruit(x):\n",
    "    fruit_list = [('apples', 2.0), ('pears', 3.0), ('limes', 4.0)]\n",
    "    my_decs_values = dict(fruit_list)\n",
    "    my_value = my_decs_values[x]\n",
    "#     print( my_value)\n",
    "    return my_value"
   ]
  },
  {
   "cell_type": "code",
   "execution_count": 9,
   "metadata": {},
   "outputs": [
    {
     "name": "stdout",
     "output_type": "stream",
     "text": [
      "Insert A Fruit Name apples\n",
      "Cost of  [('pears', 3.0), ('limes', 4.0), ('apples', 2.0)]  is  9.0\n"
     ]
    }
   ],
   "source": [
    "try:\n",
    "    sum = 0 \n",
    "    wanted_fruit = str(input('Insert A Fruit Name '))\n",
    "#     print(wanted_fruit)\n",
    "    title.append( (wanted_fruit,buyLotsOfFruit(wanted_fruit) ) )\n",
    "#     print( buyLotsOfFruit(wanted_fruit) )\n",
    "    for val in title :\n",
    "        sum += val[1]\n",
    "#     print(sum)\n",
    "    print('Cost of ', title , ' is ' , sum)\n",
    "except Exception:\n",
    "    print('Your Fruit Is Incorrect')"
   ]
  },
  {
   "cell_type": "markdown",
   "metadata": {},
   "source": [
    "# Question 3"
   ]
  },
  {
   "cell_type": "code",
   "execution_count": 10,
   "metadata": {},
   "outputs": [],
   "source": [
    "def shopSmart(shop_name,orders):\n",
    "    sum = 0\n",
    "#     print(orders)\n",
    "    values = orders.values() \n",
    "    for i in values:\n",
    "        sum += i\n",
    "    return shop_name , sum\n",
    "    "
   ]
  },
  {
   "cell_type": "code",
   "execution_count": 11,
   "metadata": {},
   "outputs": [
    {
     "name": "stdout",
     "output_type": "stream",
     "text": [
      "shop1  order is  4.0\n"
     ]
    }
   ],
   "source": [
    "orders1 = [('apples', 1.0), ('oranges', 3.0)]\n",
    "orders2 = [('apples', 3.0) ,('oranges', 5.0) ]\n",
    "dir1 = dict(orders1)\n",
    "shop1 =  shopSmart('shop1',dir1)\n",
    "\n",
    "dir2 = dict(orders2)\n",
    "shop2 = shopSmart('shop2', dir2)\n",
    "\n",
    "if(shop1[1] > shop2[1]):\n",
    "    print(shop2[0] ,' order is ' , shop2[1])\n",
    "else :\n",
    "    print(shop1[0] ,' order is ' , shop1[1])\n"
   ]
  }
 ],
 "metadata": {
  "kernelspec": {
   "display_name": "Python 3",
   "language": "python",
   "name": "python3"
  },
  "language_info": {
   "codemirror_mode": {
    "name": "ipython",
    "version": 3
   },
   "file_extension": ".py",
   "mimetype": "text/x-python",
   "name": "python",
   "nbconvert_exporter": "python",
   "pygments_lexer": "ipython3",
   "version": "3.7.4"
  }
 },
 "nbformat": 4,
 "nbformat_minor": 2
}
